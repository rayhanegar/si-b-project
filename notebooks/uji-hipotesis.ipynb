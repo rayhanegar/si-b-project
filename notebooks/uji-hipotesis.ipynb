{
 "cells": [
  {
   "cell_type": "code",
   "execution_count": 14,
   "metadata": {},
   "outputs": [],
   "source": [
    "from scipy.stats import f_oneway, ttest_ind\n",
    "import pandas as pd"
   ]
  },
  {
   "cell_type": "code",
   "execution_count": 15,
   "metadata": {},
   "outputs": [
    {
     "name": "stdout",
     "output_type": "stream",
     "text": [
      "Random Forest Accuracies: [0.788546255506608, 0.8546255506607929, 0.8141592920353983, 0.8407079646017699, 0.831858407079646]\n",
      "XGBoost Accuracies: [0.801762114537445, 0.9162995594713657, 0.8672566371681416, 0.8362831858407079, 0.8584070796460177]\n"
     ]
    }
   ],
   "source": [
    "results_df = pd.read_csv(\"../data/model_tuning_results.csv\")\n",
    "\n",
    "rf_accuracies = eval(results_df.loc[results_df['Model'] == 'Random Forest', 'Individual Accuracy Scores'].iloc[0])\n",
    "xgb_accuracies = eval(results_df.loc[results_df['Model'] == 'XGBoost', 'Individual Accuracy Scores'].iloc[0])\n",
    "\n",
    "print(\"Random Forest Accuracies:\", rf_accuracies)\n",
    "print(\"XGBoost Accuracies:\", xgb_accuracies)\n"
   ]
  },
  {
   "cell_type": "markdown",
   "metadata": {},
   "source": [
    "Uji Hipotesis untuk Pengaruh Perbedaan Nilai Parameter terhadap Akurasi (Tingkat Kepercayaan 95%)"
   ]
  },
  {
   "cell_type": "code",
   "execution_count": 22,
   "metadata": {},
   "outputs": [
    {
     "name": "stdout",
     "output_type": "stream",
     "text": [
      "ANOVA Test (Parameter Influence on RF Accuracy):\n",
      "F-statistic: 0.7653889447378839\n",
      "p-value: 0.48657622633014097\n",
      "Conclusion: Fail to Reject H0\n"
     ]
    }
   ],
   "source": [
    "rf_grouped_accuracies = [\n",
    "    rf_accuracies,  # Mock: Accuracy scores for parameter set 1\n",
    "    [score + 0.01 for score in rf_accuracies],  # Mock: Parameter set 2\n",
    "    [score - 0.01 for score in rf_accuracies]   # Mock: Parameter set 3\n",
    "]\n",
    "\n",
    "anova_result = f_oneway(*rf_grouped_accuracies)\n",
    "\n",
    "print(\"ANOVA Test (Parameter Influence on RF Accuracy):\")\n",
    "print(f\"F-statistic: {anova_result.statistic}\")\n",
    "print(f\"p-value: {anova_result.pvalue}\")\n",
    "print(\"Conclusion:\", \"Reject H0\" if anova_result.pvalue < 0.05 else \"Fail to Reject H0\")"
   ]
  },
  {
   "cell_type": "markdown",
   "metadata": {},
   "source": [
    "Uji Hipotesis untuk Perbedaan Akurasi antara Dua Metode (Tingkat Kepercayaan 95%)"
   ]
  },
  {
   "cell_type": "code",
   "execution_count": 23,
   "metadata": {},
   "outputs": [
    {
     "name": "stdout",
     "output_type": "stream",
     "text": [
      "\n",
      "T-Test (Accuracy Comparison RF vs XGBoost):\n",
      "t-statistic: -1.3623897745108144\n",
      "p-value: 0.21778004290308486\n",
      "Conclusion: Fail to Reject H0\n"
     ]
    }
   ],
   "source": [
    "t_test_result = ttest_ind(rf_accuracies, xgb_accuracies, equal_var=False)\n",
    "\n",
    "print(\"\\nT-Test (Accuracy Comparison RF vs XGBoost):\")\n",
    "print(f\"t-statistic: {t_test_result.statistic}\")\n",
    "print(f\"p-value: {t_test_result.pvalue}\")\n",
    "print(\"Conclusion:\", \"Reject H0\" if t_test_result.pvalue < 0.05 else \"Fail to Reject H0\")"
   ]
  }
 ],
 "metadata": {
  "kernelspec": {
   "display_name": "base",
   "language": "python",
   "name": "python3"
  },
  "language_info": {
   "codemirror_mode": {
    "name": "ipython",
    "version": 3
   },
   "file_extension": ".py",
   "mimetype": "text/x-python",
   "name": "python",
   "nbconvert_exporter": "python",
   "pygments_lexer": "ipython3",
   "version": "3.12.7"
  }
 },
 "nbformat": 4,
 "nbformat_minor": 2
}
