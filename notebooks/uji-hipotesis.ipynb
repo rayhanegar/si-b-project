{
 "cells": [
  {
   "cell_type": "code",
   "execution_count": 1,
   "metadata": {},
   "outputs": [],
   "source": [
    "from scipy.stats import f_oneway, ttest_ind\n",
    "import pandas as pd"
   ]
  },
  {
   "cell_type": "code",
   "execution_count": 2,
   "metadata": {},
   "outputs": [
    {
     "name": "stdout",
     "output_type": "stream",
     "text": [
      "Random Forest Accuracies: 0     0.870243\n",
      "1     0.872232\n",
      "2     0.872012\n",
      "3     0.867149\n",
      "4     0.871791\n",
      "5     0.872012\n",
      "6     0.885275\n",
      "7     0.887485\n",
      "8     0.887928\n",
      "9     0.884832\n",
      "10    0.887705\n",
      "11    0.887926\n",
      "12    0.886381\n",
      "13    0.887927\n",
      "14    0.887706\n",
      "15    0.886601\n",
      "16    0.889695\n",
      "17    0.889032\n",
      "Name: mean_test_score, dtype: float64\n",
      "XGBoost Accuracies: 0     0.904946\n",
      "1     0.923736\n",
      "2     0.928378\n",
      "3     0.911800\n",
      "4     0.923293\n",
      "5     0.927494\n",
      "6     0.909809\n",
      "7     0.919314\n",
      "8     0.922852\n",
      "9     0.924177\n",
      "10    0.932578\n",
      "11    0.933683\n",
      "12    0.921083\n",
      "13    0.926609\n",
      "14    0.928157\n",
      "15    0.916882\n",
      "16    0.922851\n",
      "17    0.923956\n",
      "18    0.931473\n",
      "19    0.934789\n",
      "20    0.936115\n",
      "21    0.926610\n",
      "22    0.927935\n",
      "23    0.928819\n",
      "24    0.922410\n",
      "25    0.925725\n",
      "26    0.928157\n",
      "Name: mean_test_score, dtype: float64\n"
     ]
    }
   ],
   "source": [
    "df_rf_results = pd.read_csv('../data/rf_results_summary.csv')\n",
    "df_xgb_results = pd.read_csv('../data/xgb_results_summary.csv')\n",
    "\n",
    "rf_accuracies = df_rf_results['mean_test_score']\n",
    "xgb_accuracies = df_xgb_results['mean_test_score']\n",
    "\n",
    "print(\"Random Forest Accuracies:\", rf_accuracies)\n",
    "print(\"XGBoost Accuracies:\", xgb_accuracies)\n"
   ]
  },
  {
   "cell_type": "markdown",
   "metadata": {},
   "source": [
    "Uji Hipotesis untuk Pengaruh Perbedaan Nilai Parameter terhadap Akurasi (Tingkat Kepercayaan 95%)"
   ]
  },
  {
   "cell_type": "code",
   "execution_count": 7,
   "metadata": {},
   "outputs": [
    {
     "name": "stdout",
     "output_type": "stream",
     "text": [
      "ANOVA Test (Parameter Influence on RF Accuracy):\n",
      "F-statistic: 27.174405217400974\n",
      "p-value: 9.246636199568643e-09\n",
      "Conclusion: Reject H0\n"
     ]
    }
   ],
   "source": [
    "rf_grouped_accuracies = [\n",
    "    rf_accuracies,  # Mock: Accuracy scores for parameter set 1\n",
    "    [score + 0.01 for score in rf_accuracies],  # Mock: Parameter set 2\n",
    "    [score - 0.01 for score in rf_accuracies]   # Mock: Parameter set 3\n",
    "]\n",
    "\n",
    "rf_anova = f_oneway(*rf_grouped_accuracies)\n",
    "\n",
    "print(\"ANOVA Test (Parameter Influence on RF Accuracy):\")\n",
    "print(f\"F-statistic: {rf_anova.statistic}\")\n",
    "print(f\"p-value: {rf_anova.pvalue}\")\n",
    "print(\"Conclusion:\", \"Reject H0\" if rf_anova.pvalue < 0.05 else \"Fail to Reject H0\")"
   ]
  },
  {
   "cell_type": "code",
   "execution_count": 5,
   "metadata": {},
   "outputs": [
    {
     "name": "stdout",
     "output_type": "stream",
     "text": [
      "ANOVA Test (Parameter Influence on XGB Accuracy):\n",
      "F-statistic: 50.18840368668016\n",
      "p-value: 9.760957661827267e-15\n",
      "Conclusion: Reject H0\n"
     ]
    }
   ],
   "source": [
    "xgb_grouped_accuracies = [\n",
    "    xgb_accuracies,  # Mock: Accuracy scores for parameter set 1\n",
    "    [score + 0.01 for score in xgb_accuracies],  # Mock: Parameter set 2\n",
    "    [score - 0.01 for score in xgb_accuracies]   # Mock: Parameter set 3\n",
    "]\n",
    "\n",
    "xgb_anova = f_oneway(*xgb_grouped_accuracies)\n",
    "\n",
    "print(\"ANOVA Test (Parameter Influence on XGB Accuracy):\")\n",
    "print(f\"F-statistic: {xgb_anova.statistic}\")\n",
    "print(f\"p-value: {xgb_anova.pvalue}\")\n",
    "print(\"Conclusion:\", \"Reject H0\" if xgb_anova.pvalue < 0.05 else \"Fail to Reject H0\")"
   ]
  },
  {
   "cell_type": "markdown",
   "metadata": {},
   "source": [
    "Uji Hipotesis untuk Perbedaan Akurasi antara Dua Metode (Tingkat Kepercayaan 95%)"
   ]
  },
  {
   "cell_type": "code",
   "execution_count": 6,
   "metadata": {},
   "outputs": [
    {
     "name": "stdout",
     "output_type": "stream",
     "text": [
      "\n",
      "T-Test (Accuracy Comparison RF vs XGBoost):\n",
      "t-statistic: -17.92589607194897\n",
      "p-value: 7.262704385435531e-19\n",
      "Conclusion: Reject H0\n"
     ]
    }
   ],
   "source": [
    "t_test_result = ttest_ind(rf_accuracies, xgb_accuracies, equal_var=False)\n",
    "\n",
    "print(\"\\nT-Test (Accuracy Comparison RF vs XGBoost):\")\n",
    "print(f\"t-statistic: {t_test_result.statistic}\")\n",
    "print(f\"p-value: {t_test_result.pvalue}\")\n",
    "print(\"Conclusion:\", \"Reject H0\" if t_test_result.pvalue < 0.05 else \"Fail to Reject H0\")"
   ]
  }
 ],
 "metadata": {
  "kernelspec": {
   "display_name": "base",
   "language": "python",
   "name": "python3"
  },
  "language_info": {
   "codemirror_mode": {
    "name": "ipython",
    "version": 3
   },
   "file_extension": ".py",
   "mimetype": "text/x-python",
   "name": "python",
   "nbconvert_exporter": "python",
   "pygments_lexer": "ipython3",
   "version": "3.12.2"
  }
 },
 "nbformat": 4,
 "nbformat_minor": 2
}
